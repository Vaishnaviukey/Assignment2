{
 "cells": [
  {
   "cell_type": "markdown",
   "id": "33d72e95-bcf2-462a-9d0a-1146304e2b2b",
   "metadata": {},
   "source": [
    "## Q1. How do you comment code in Python? What are the different types of comments?"
   ]
  },
  {
   "cell_type": "code",
   "execution_count": null,
   "id": "aa75cd52-ca5b-41e2-a704-14b33a834c09",
   "metadata": {},
   "outputs": [],
   "source": [
    "1. Single line comment :\n",
    "    # this is single line comment\n",
    "2. multi-line comment :\n",
    "    \"\"\"This is multi-line comment\n",
    "    I use in my python code\"\"\""
   ]
  },
  {
   "cell_type": "markdown",
   "id": "71762474-1e03-4b4c-a382-531a96fc7178",
   "metadata": {},
   "source": [
    "## Q2. What are variables in Python? How do you declare and assign values to variables?"
   ]
  },
  {
   "cell_type": "markdown",
   "id": "1c3fc002-8e72-4d48-9f5c-9298aa673bd3",
   "metadata": {},
   "source": [
    "A variable is a string of characters and numbers associated with a piece of information."
   ]
  },
  {
   "cell_type": "code",
   "execution_count": 2,
   "id": "e67048dc-7242-421d-98e4-826a3f352798",
   "metadata": {},
   "outputs": [],
   "source": [
    "#We assign value to variable by using '='\n",
    "\n",
    "a = \"Vaish\"\n",
    "b1 = 21\n",
    "x1y1w1 = 82\n",
    "a_21 = 21"
   ]
  },
  {
   "cell_type": "markdown",
   "id": "d1543a51-54f7-4143-9323-8550d30f92e2",
   "metadata": {},
   "source": [
    "##Q3. How do you convert one data type to another in Python?"
   ]
  },
  {
   "cell_type": "code",
   "execution_count": 3,
   "id": "a80d3304-5d88-4bf8-a72c-16223b574f57",
   "metadata": {},
   "outputs": [
    {
     "data": {
      "text/plain": [
       "str"
      ]
     },
     "execution_count": 3,
     "metadata": {},
     "output_type": "execute_result"
    }
   ],
   "source": [
    "a = \"Vaish\"\n",
    "type(a)"
   ]
  },
  {
   "cell_type": "code",
   "execution_count": 4,
   "id": "6666e508-9a22-452f-9124-022f2501f29f",
   "metadata": {},
   "outputs": [
    {
     "data": {
      "text/plain": [
       "int"
      ]
     },
     "execution_count": 4,
     "metadata": {},
     "output_type": "execute_result"
    }
   ],
   "source": [
    "b = 12\n",
    "type(b)"
   ]
  },
  {
   "cell_type": "code",
   "execution_count": 5,
   "id": "05db3212-30aa-42e9-860b-833506369711",
   "metadata": {},
   "outputs": [],
   "source": [
    "c = str(a) ## Integer into string"
   ]
  },
  {
   "cell_type": "code",
   "execution_count": 6,
   "id": "78dc8b9d-3e6f-4dbf-8db5-b1c6ce57ab3b",
   "metadata": {},
   "outputs": [
    {
     "data": {
      "text/plain": [
       "str"
      ]
     },
     "execution_count": 6,
     "metadata": {},
     "output_type": "execute_result"
    }
   ],
   "source": [
    "type(c)"
   ]
  },
  {
   "cell_type": "code",
   "execution_count": 7,
   "id": "331c4bee-6039-4e72-ba11-6fd39de8829d",
   "metadata": {},
   "outputs": [
    {
     "ename": "ValueError",
     "evalue": "invalid literal for int() with base 10: 'Vaish'",
     "output_type": "error",
     "traceback": [
      "\u001b[0;31m---------------------------------------------------------------------------\u001b[0m",
      "\u001b[0;31mValueError\u001b[0m                                Traceback (most recent call last)",
      "Cell \u001b[0;32mIn[7], line 1\u001b[0m\n\u001b[0;32m----> 1\u001b[0m d \u001b[38;5;241m=\u001b[39m \u001b[38;5;28;43mint\u001b[39;49m\u001b[43m(\u001b[49m\u001b[43ma\u001b[49m\u001b[43m)\u001b[49m\n\u001b[1;32m      2\u001b[0m \u001b[38;5;28mtype\u001b[39m(d)\n",
      "\u001b[0;31mValueError\u001b[0m: invalid literal for int() with base 10: 'Vaish'"
     ]
    }
   ],
   "source": [
    "d = int(a)\n",
    "type(d)"
   ]
  },
  {
   "cell_type": "code",
   "execution_count": 8,
   "id": "76c49a53-4032-49f0-88c9-d3293a34f4b1",
   "metadata": {},
   "outputs": [],
   "source": [
    "e = float(b)"
   ]
  },
  {
   "cell_type": "code",
   "execution_count": 10,
   "id": "ee38233c-4eb1-4dc6-869d-b254038cc068",
   "metadata": {},
   "outputs": [
    {
     "data": {
      "text/plain": [
       "float"
      ]
     },
     "execution_count": 10,
     "metadata": {},
     "output_type": "execute_result"
    }
   ],
   "source": [
    "type(e)\n"
   ]
  },
  {
   "cell_type": "markdown",
   "id": "32baf770-22ef-4d6c-a965-6d4d80e5ef25",
   "metadata": {},
   "source": [
    "Q4. How do you write and execute a Python script from the command line?"
   ]
  },
  {
   "cell_type": "code",
   "execution_count": null,
   "id": "88f147f3-ad3c-4142-82d1-497d0d36778c",
   "metadata": {},
   "outputs": [],
   "source": [
    "Step 1: Create a Python Script"
   ]
  },
  {
   "cell_type": "code",
   "execution_count": null,
   "id": "5f440e68-dbbb-4331-8355-f8fe5c65f2f9",
   "metadata": {},
   "outputs": [],
   "source": []
  },
  {
   "cell_type": "code",
   "execution_count": null,
   "id": "88d27a46-467b-4f2d-a278-ee807d3c6481",
   "metadata": {},
   "outputs": [],
   "source": []
  },
  {
   "cell_type": "markdown",
   "id": "c0aafaf8-7afc-4672-9886-96269bc2a871",
   "metadata": {},
   "source": [
    "Q5. Given a list my_list = [1, 2, 3, 4, 5], write the code to slice the list and obtain the sub-list [2, 3]."
   ]
  },
  {
   "cell_type": "code",
   "execution_count": 12,
   "id": "723b2eeb-4fac-4f1e-b42d-db9fe807151f",
   "metadata": {},
   "outputs": [],
   "source": [
    "my_list = [1, 2, 3, 4, 5]"
   ]
  },
  {
   "cell_type": "code",
   "execution_count": 14,
   "id": "bf8dce5b-38b9-4700-b864-fdad62263d04",
   "metadata": {},
   "outputs": [
    {
     "data": {
      "text/plain": [
       "[2, 3]"
      ]
     },
     "execution_count": 14,
     "metadata": {},
     "output_type": "execute_result"
    }
   ],
   "source": [
    "my_list[1:3]"
   ]
  },
  {
   "cell_type": "markdown",
   "id": "4950ff0f-2338-47bf-8157-ad7eda1b84dd",
   "metadata": {},
   "source": [
    "Q6. What is a complex number in mathematics, and how is it represented in Python?"
   ]
  },
  {
   "cell_type": "code",
   "execution_count": null,
   "id": "ea67c938-90b9-41ad-9554-a3213fa331a8",
   "metadata": {},
   "outputs": [],
   "source": [
    "In mathematics complex number has 2 parts - one is real number and another one is imaginary ."
   ]
  },
  {
   "cell_type": "code",
   "execution_count": 15,
   "id": "96f5bd1d-bd28-4bbb-8afb-666abdaf29e9",
   "metadata": {},
   "outputs": [
    {
     "name": "stdout",
     "output_type": "stream",
     "text": [
      "(3+8j)\n",
      "<class 'complex'>\n"
     ]
    }
   ],
   "source": [
    "a = 3 + 8j # Representation\n",
    "print(a)\n",
    "print(type(a))"
   ]
  },
  {
   "cell_type": "markdown",
   "id": "d1fba467-f9de-4e3d-bae4-35134c638bfa",
   "metadata": {},
   "source": [
    "Q7. What is the correct way to declare a variable named age and assign the value 25 to it?"
   ]
  },
  {
   "cell_type": "code",
   "execution_count": 16,
   "id": "93e216a9-f987-486b-9253-cb71efa45721",
   "metadata": {},
   "outputs": [
    {
     "data": {
      "text/plain": [
       "25"
      ]
     },
     "execution_count": 16,
     "metadata": {},
     "output_type": "execute_result"
    }
   ],
   "source": [
    "age = 25 # here '25' is a value which assign to the variable 'age'\n",
    "age"
   ]
  },
  {
   "cell_type": "markdown",
   "id": "1e1e7b10-99b4-45ff-8372-d32e0cd8f512",
   "metadata": {},
   "source": [
    "Q8. Declare a variable named price and assign the value 9.99 to it. What data type does this variable\n",
    "belong to?"
   ]
  },
  {
   "cell_type": "code",
   "execution_count": 17,
   "id": "5305ed06-8350-49a6-8755-b94bca441cf5",
   "metadata": {},
   "outputs": [
    {
     "name": "stdout",
     "output_type": "stream",
     "text": [
      "<class 'float'>\n"
     ]
    }
   ],
   "source": [
    "price = 9.99\n",
    "print(type(price))\n",
    "# 'float' data type"
   ]
  },
  {
   "cell_type": "markdown",
   "id": "cd80f4a1-a240-4b5c-965e-c38739d0ebb2",
   "metadata": {},
   "source": [
    "Q9. Create a variable named name and assign your full name to it as a string. How would you print the\n",
    "value of this variable?"
   ]
  },
  {
   "cell_type": "code",
   "execution_count": 18,
   "id": "4700963d-422a-4e80-ab9b-71634a40cacd",
   "metadata": {},
   "outputs": [
    {
     "name": "stdout",
     "output_type": "stream",
     "text": [
      "Vaishnavi Ukey\n"
     ]
    }
   ],
   "source": [
    "name = \"Vaishnavi Ukey\" #Create a variable named name and assign your full name to it as a string.\n",
    "print(name) # How would you print the value of this variable"
   ]
  },
  {
   "cell_type": "markdown",
   "id": "d0e8f2ba-f30f-4736-9244-39e100e909d4",
   "metadata": {},
   "source": [
    "Q10. Given the string \"Hello, World!\", extract the substring \"World\"."
   ]
  },
  {
   "cell_type": "code",
   "execution_count": 22,
   "id": "e99b8265-741a-4bfd-9b0f-cd1d68d825df",
   "metadata": {},
   "outputs": [
    {
     "data": {
      "text/plain": [
       "'World!'"
      ]
     },
     "execution_count": 22,
     "metadata": {},
     "output_type": "execute_result"
    }
   ],
   "source": [
    "String =  \"Hello, World!\" # Given the string \"Hello, World!\"\n",
    "String[7::] #extract the substring \"World\"."
   ]
  },
  {
   "cell_type": "markdown",
   "id": "951b5687-2554-4ed9-b862-2b4fe447cf08",
   "metadata": {},
   "source": [
    "Q11. Create a variable named \"is_student\" and assign it a boolean value indicating whether you are\n",
    "currently a student or not."
   ]
  },
  {
   "cell_type": "code",
   "execution_count": 24,
   "id": "8be68ef6-710c-40ed-b7a8-bbe262a04348",
   "metadata": {},
   "outputs": [
    {
     "data": {
      "text/plain": [
       "True"
      ]
     },
     "execution_count": 24,
     "metadata": {},
     "output_type": "execute_result"
    }
   ],
   "source": [
    "is_student = True\n",
    "is_student"
   ]
  },
  {
   "cell_type": "code",
   "execution_count": null,
   "id": "53b10220-c549-479f-a013-81c600d1b000",
   "metadata": {},
   "outputs": [],
   "source": []
  }
 ],
 "metadata": {
  "kernelspec": {
   "display_name": "Python 3 (ipykernel)",
   "language": "python",
   "name": "python3"
  },
  "language_info": {
   "codemirror_mode": {
    "name": "ipython",
    "version": 3
   },
   "file_extension": ".py",
   "mimetype": "text/x-python",
   "name": "python",
   "nbconvert_exporter": "python",
   "pygments_lexer": "ipython3",
   "version": "3.10.8"
  }
 },
 "nbformat": 4,
 "nbformat_minor": 5
}
